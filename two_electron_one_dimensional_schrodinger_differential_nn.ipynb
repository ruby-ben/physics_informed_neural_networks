{
 "cells": [
  {
   "cell_type": "markdown",
   "id": "2b6cb3f6",
   "metadata": {},
   "source": [
    "# PINN for Two-Electron Schrödinger Equation Using a Universal Solver\n",
    "\n",
    "> **Clarification:** This model approximates the *joint* wavefunction ψ(x₁, x₂) using a single network that takes both electron coordinates as input. It simultaneously solves for both electrons, rather than using two separate networks. (one for ecah electron)\n",
    "\n",
    "This notebook generalizes our `UniversalDESolver` framework to solve the stationary Schrödinger equation for two electrons in one spatial dimension:\n",
    "\n",
    "$$\n",
    "-\\tfrac12\\Bigl(\\partial_{x_1}^2 + \\partial_{x_2}^2\\Bigr)\\psi(x_1,x_2)\n",
    "+ V(x_1,x_2)\\,\\psi(x_1,x_2) = E\\,\\psi(x_1,x_2),\n",
    "$$\n",
    "\n",
    "with soft-Coulomb potential\n",
    "\n",
    "$$\n",
    "V(x_1,x_2) = -\\frac{1}{\\sqrt{x_1^2 + a^2}} - \\frac{1}{\\sqrt{x_2^2 + a^2}} + \\frac{1}{\\sqrt{(x_1 - x_2)^2 + b^2}}.\n",
    "$$\n",
    "\n",
    "We treat $\\psi: \\mathbb{R}^2\\to\\mathbb{R}$ as the network output and $E$ as a trainable parameter.  Boundary: $\\psi=0$ on $x_i=\\pm L$.  Normalization: $\\int|\\psi|^2=1$.\n",
    "\n",
    "---"
   ]
  },
  {
   "cell_type": "markdown",
   "id": "e2ba5e37",
   "metadata": {},
   "source": [
    "## 1. Problem Statement\n",
    "\n",
    "We consider the stationary Schrödinger equation (atomic units, $\\hbar=1, m=1$) for two electrons on a line interacting via a soft Coulomb potential:\n",
    "\n",
    "$$\n",
    "-\\tfrac12\\bigl(\\partial_{x_1}^2 + \\partial_{x_2}^2\\bigr)\\psi(x_1,x_2) + V(x_1,x_2)\\,\\psi(x_1,x_2) = E\\,\\psi(x_1,x_2),\n",
    "$$\n",
    "\n",
    "where the potential is\n",
    "\n",
    "$$\n",
    "V(x_1,x_2) = -\\frac{1}{\\sqrt{x_1^2 + a^2}} - \\frac{1}{\\sqrt{x_2^2 + a^2}} + \\frac{1}{\\sqrt{(x_1 - x_2)^2 + b^2}},\n",
    "$$\n",
    "\n",
    "with softening parameters $a,b>0$.  We seek the lowest eigenvalue $E$ and the corresponding normalized $\\psi(x_1,x_2)$.\n",
    "\n",
    "**Domain:** $x_1,x_2 \\in [-L,L]$ with Dirichlet boundary $\\psi=0$ on the edges.\n",
    "\n",
    "---"
   ]
  },
  {
   "cell_type": "markdown",
   "id": "2399fa13",
   "metadata": {},
   "source": [
    "\n",
    "## 2. Imports and Setup\n",
    "\n"
   ]
  },
  {
   "cell_type": "code",
   "execution_count": 1,
   "id": "98959262",
   "metadata": {},
   "outputs": [],
   "source": [
    "import torch\n",
    "import torch.nn as nn\n",
    "import numpy as np\n",
    "import matplotlib.pyplot as plt\n",
    "from mpl_toolkits.mplot3d import Axes3D"
   ]
  },
  {
   "cell_type": "markdown",
   "id": "403d529e",
   "metadata": {},
   "source": [
    "---\n",
    "\n",
    "## 3. PINN Model Definition\n",
    "\n",
    "We build a network that takes $[x_1,x_2]$ and outputs $\\psi$. We also treat the energy $E$ as a trainable parameter."
   ]
  },
  {
   "cell_type": "code",
   "execution_count": 7,
   "id": "3719eb4b",
   "metadata": {},
   "outputs": [],
   "source": [
    "# Universal solver and sampler with docstrings\n",
    "defaulE = None\n",
    "class UniversalDESolver(nn.Module):\n",
    "    \"\"\"\n",
    "    Neural PDE/ODE solver using automatic differentiation.\n",
    "\n",
    "    Parameters:\n",
    "    - input_dim: int, number of input coordinates (e.g., 2 for (x1,x2))\n",
    "    - hidden_dim: int, hidden layer width\n",
    "    - num_layers: int, number of hidden layers\n",
    "    - output_dim: int, number of outputs (1 for scalar ψ)\n",
    "    - activation: callable, activation class (e.g., nn.Tanh)\n",
    "    \"\"\"\n",
    "    def __init__(self, input_dim, hidden_dim, num_layers, output_dim=1, activation=nn.Tanh):\n",
    "        super().__init__()\n",
    "        layers = [nn.Linear(input_dim, hidden_dim), activation()]\n",
    "        for _ in range(num_layers-1):\n",
    "            layers += [nn.Linear(hidden_dim, hidden_dim), activation()]\n",
    "        layers.append(nn.Linear(hidden_dim, output_dim))\n",
    "        self.net = nn.Sequential(*layers)\n",
    "\n",
    "        self.equation = None      # dict with 'function', 'order', 'params', 'norm_weight'\n",
    "        self.conditions = []      # list of {'points','function','weight'}\n",
    "        self.domain = None        # Domain sampler\n",
    "        # trainable energy parameter (for Schrödinger)\n",
    "        self.E = nn.Parameter(torch.tensor(1.0))\n",
    "\n",
    "    def add_equation(self, eq_dict):\n",
    "        \"\"\"\n",
    "        Register PDE residual:\n",
    "        eq_dict keys:\n",
    "          'function': callable(pts,psi,grads,d2,E,**params)\n",
    "          'order': int, highest derivative order\n",
    "          'params': dict, additional PDE parameters (e.g. a,b for potential)\n",
    "          'norm_weight': float, weight for normalization loss\n",
    "        \"\"\"\n",
    "        self.equation = eq_dict\n",
    "\n",
    "    def add_condition(self, cond_dict):\n",
    "        \"\"\"\n",
    "        Add boundary/initial condition:\n",
    "        cond_dict keys:\n",
    "          'points': tensor of coords\n",
    "          'function': target psi value at points\n",
    "          'weight': float\n",
    "        \"\"\"\n",
    "        self.conditions.append(cond_dict)\n",
    "\n",
    "    def forward(self, x):\n",
    "        return self.net(x)\n",
    "\n",
    "    def compute_residual(self, pts):\n",
    "        \"\"\"\n",
    "        Compute PDE residual at collocation points.\n",
    "        Returns residual tensor of shape (batch,1).\n",
    "        \"\"\"\n",
    "        pts = pts.clone().requires_grad_(True)\n",
    "        psi = self(pts)\n",
    "        grads = torch.autograd.grad(psi, pts,\n",
    "                                    torch.ones_like(psi),\n",
    "                                    create_graph=True)[0]\n",
    "        d2 = None\n",
    "        if self.equation['order'] >= 2:\n",
    "            d2x1 = torch.autograd.grad(grads[:,0:1], pts,\n",
    "                                        torch.ones_like(psi),\n",
    "                                        create_graph=True)[0][:,0:1]\n",
    "            d2x2 = torch.autograd.grad(grads[:,1:2], pts,\n",
    "                                        torch.ones_like(psi),\n",
    "                                        create_graph=True)[0][:,1:2]\n",
    "            d2 = torch.cat([d2x1, d2x2], dim=1)\n",
    "        # call PDE function, include E automatically\n",
    "        return self.equation['function'](pts, psi, grads, d2, self.E,\n",
    "                                         **self.equation.get('params', {}))\n",
    "\n",
    "    def compute_loss(self, batch_size=1024):\n",
    "        \"\"\"\n",
    "        Combined loss: PDE residual + BCs + normalization.\n",
    "        \"\"\"\n",
    "        # PDE residual loss\n",
    "        f_pts = self.domain.sample_interior(batch_size)\n",
    "        res = self.compute_residual(f_pts)\n",
    "        Lf = torch.mean(res**2)\n",
    "        # boundary conditions\n",
    "        Lb = torch.tensor(0.0, device=res.device)\n",
    "        for c in self.conditions:\n",
    "            pred = self(c['points'])\n",
    "            targ = c['function'](c['points'])\n",
    "            Lb = Lb + c.get('weight',1.0)*torch.mean((pred - targ)**2)\n",
    "        # normalization: ∫|ψ|²=1\n",
    "        n_pts = self.domain.sample_interior(batch_size)\n",
    "        norm = torch.mean(self(n_pts)**2)\n",
    "        Lnorm = (norm - 1.0)**2\n",
    "        return Lf + Lb + self.equation.get('norm_weight',10.0)*Lnorm\n",
    "\n",
    "    def train_step(self, optim, batch_size=1024):\n",
    "        \"\"\"\n",
    "        Single optimization step.\n",
    "        \"\"\"\n",
    "        optim.zero_grad()\n",
    "        loss = self.compute_loss(batch_size)\n",
    "        loss.backward()\n",
    "        optim.step()\n",
    "        return loss.item()\n"
   ]
  },
  {
   "cell_type": "markdown",
   "id": "7003dfae",
   "metadata": {},
   "source": [
    "---\n",
    "### Domain Sampler"
   ]
  },
  {
   "cell_type": "code",
   "execution_count": 8,
   "id": "451bde37",
   "metadata": {},
   "outputs": [],
   "source": [
    "\n",
    "class Domain2D:\n",
    "    \"\"\"Sampler for 2D square domain [-L,L]^2\"\"\"\n",
    "    def __init__(self, L): self.L = L\n",
    "    def sample_interior(self, n):\n",
    "        return (torch.rand(n,2)*2 - 1) * self.L\n",
    "    def sample_boundary(self, n):\n",
    "        ne = n//4; L=self.L; edges=[]\n",
    "        # x1=±L\n",
    "        edges += [(torch.full((ne,1),-L), torch.rand(ne,1)*2*L-L),\n",
    "                  (torch.full((ne,1), L), torch.rand(ne,1)*2*L-L)]\n",
    "        # x2=±L\n",
    "        edges += [(torch.rand(ne,1)*2*L-L, torch.full((ne,1),-L)),\n",
    "                  (torch.rand(ne,1)*2*L-L, torch.full((ne,1), L))]\n",
    "        pts = torch.cat([torch.cat(e,1) for e in edges],0)\n",
    "        return pts"
   ]
  },
  {
   "cell_type": "markdown",
   "id": "55b7ea9f",
   "metadata": {},
   "source": [
    "---\n",
    "### Define Schrodinger Residual"
   ]
  },
  {
   "cell_type": "code",
   "execution_count": 9,
   "id": "8f0dfdf5",
   "metadata": {},
   "outputs": [],
   "source": [
    "# potential params\n",
    "a, b = 0.5, 0.5\n",
    "\n",
    "def schrodinger_res(pts, psi, grads, d2, E, a, b):\n",
    "    # grads: [dpsi/dx1, dpsi/dx2]; d2: [d2psi_dx1, d2psi_dx2]\n",
    "    lap = -0.5*(d2[...,0:1] + d2[...,1:2])\n",
    "    x1,x2 = pts[:,0:1], pts[:,1:2]\n",
    "    V = -1/torch.sqrt(x1**2 + a**2) -1/torch.sqrt(x2**2 + a**2)\n",
    "    V += 1/torch.sqrt((x1-x2)**2 + b**2)\n",
    "    return lap + V*psi - E*psi"
   ]
  },
  {
   "cell_type": "markdown",
   "id": "5132c279",
   "metadata": {},
   "source": [
    "---\n",
    "\n",
    "## 3. Setup Solver, Conditions, and Training -> should expect -1.5 to -2 a.u for enery\n",
    "- ### large L, so the true tails of the wavefunction can decay before the boundary"
   ]
  },
  {
   "cell_type": "code",
   "execution_count": 17,
   "id": "8b2a4f80",
   "metadata": {},
   "outputs": [
    {
     "name": "stdout",
     "output_type": "stream",
     "text": [
      "Epoch 0: Loss=9.56e+00, E=0.9900\n",
      "Epoch 200: Loss=6.67e+00, E=0.1919\n",
      "Epoch 400: Loss=3.29e+00, E=-0.0476\n",
      "Epoch 600: Loss=4.24e+00, E=-0.1700\n",
      "Epoch 800: Loss=6.15e+00, E=-0.0379\n",
      "Epoch 1000: Loss=2.58e+00, E=-0.3119\n",
      "Epoch 1200: Loss=3.65e+00, E=-0.3910\n",
      "Epoch 1400: Loss=1.59e+00, E=-0.4058\n",
      "Epoch 1600: Loss=2.88e+00, E=-0.3796\n",
      "Epoch 1800: Loss=1.97e+00, E=-0.3971\n",
      "Epoch 2000: Loss=1.72e+00, E=-0.3557\n",
      "Epoch 2200: Loss=1.65e+00, E=-0.3396\n",
      "Epoch 2400: Loss=9.92e-01, E=-0.3590\n",
      "Epoch 2600: Loss=9.28e-01, E=-0.3426\n",
      "Epoch 2800: Loss=1.16e+00, E=-0.3617\n",
      "Epoch 3000: Loss=6.87e-01, E=-0.3672\n",
      "Epoch 3200: Loss=1.07e+00, E=-0.3674\n",
      "Epoch 3400: Loss=6.86e-01, E=-0.3527\n",
      "Epoch 3600: Loss=7.27e-01, E=-0.3529\n",
      "Epoch 3800: Loss=1.54e+00, E=-0.3255\n",
      "Epoch 4000: Loss=1.55e+00, E=-0.3452\n",
      "Epoch 4200: Loss=6.50e-01, E=-0.3241\n",
      "Epoch 4400: Loss=5.09e-01, E=-0.2956\n",
      "Epoch 4600: Loss=4.49e-01, E=-0.3121\n",
      "Epoch 4800: Loss=1.05e+00, E=-0.3007\n",
      "Epoch 5000: Loss=7.71e-01, E=-0.2974\n"
     ]
    }
   ],
   "source": [
    "# Instantiate solver\n",
    "solver = UniversalDESolver(input_dim=2, hidden_dim=128, num_layers=5)\n",
    "# Register PDE\n",
    "solver.add_equation({\n",
    "    'function': schrodinger_res,\n",
    "    'order':2,\n",
    "    'params':{'a':a,'b':b},\n",
    "    'norm_weight':10.0\n",
    "})\n",
    "# Domain\n",
    "domain = Domain2D(L=15.0)  # large enough, so the ground state can be artificially “squeezed,” which raises the energy. \n",
    "solver.domain = domain\n",
    "# Energy parameter inside solver.equation uses model.E\n",
    "# Boundary: psi=0\n",
    "b_pts = domain.sample_boundary(2000)\n",
    "solver.add_condition({\n",
    "    'points': b_pts,\n",
    "    'function': lambda x: torch.zeros(x.shape[0],1),\n",
    "    'weight':1.0\n",
    "})\n",
    "# Link energy param\n",
    "# Monkey-patch residual to read solver.net.E? Instead use solver.net.E\n",
    "# For brevity, attach E parameter to solver\n",
    "solver.E = nn.Parameter(torch.tensor(1.0))\n",
    "solver.net.register_parameter('E', solver.E)\n",
    "\n",
    "# Optimizer\n",
    "optim = torch.optim.Adam(solver.net.parameters(), lr=1e-2)\n",
    "# Training\n",
    "loss_hist, E_hist = [], []\n",
    "for epoch in range(5001):\n",
    "    loss = solver.train_step(optim, batch_size=64)  \n",
    "    loss_hist.append(loss)\n",
    "    E_hist.append(solver.E.item())\n",
    "    if epoch%200==0:\n",
    "        print(f\"Epoch {epoch}: Loss={loss:.2e}, E={solver.E.item():.4f}\")"
   ]
  },
  {
   "cell_type": "markdown",
   "id": "a0dcc940",
   "metadata": {},
   "source": [
    "---\n",
    "### Results"
   ]
  },
  {
   "cell_type": "code",
   "execution_count": 18,
   "id": "ee36ae5f",
   "metadata": {},
   "outputs": [
    {
     "data": {
      "image/png": "[encoded data removed]",
      "text/plain": [
       "<Figure size 640x480 with 1 Axes>"
      ]
     },
     "metadata": {},
     "output_type": "display_data"
    },
    {
     "data": {
      "image/png": "[encoded data removed]",
      "text/plain": [
       "<Figure size 640x480 with 1 Axes>"
      ]
     },
     "metadata": {},
     "output_type": "display_data"
    }
   ],
   "source": [
    "plt.plot(E_hist); plt.title('Energy Convergence'); plt.xlabel('Epoch'); plt.ylabel('E'); plt.show()\n",
    "# Slice at x2=0\n",
    "x1 = torch.linspace(-5,5,200).unsqueeze(1)\n",
    "pts = torch.cat([x1, torch.zeros_like(x1)],1)\n",
    "with torch.no_grad(): psi_slice = solver(pts).numpy()\n",
    "plt.plot(x1, psi_slice); plt.title('psi(x1,0)'); plt.show()"
   ]
  },
  {
   "cell_type": "markdown",
   "id": "5421895f",
   "metadata": {},
   "source": [
    "---\n",
    "\n",
    "**Next steps:**\n",
    "   \n",
    "- look into giving each electron its own neural network (same if symmetry)\n",
    "- look into expanding this into n-electron solutions with a more complex potential\n"
   ]
  }
 ],
 "metadata": {
  "kernelspec": {
   "display_name": "Python 3",
   "language": "python",
   "name": "python3"
  },
  "language_info": {
   "codemirror_mode": {
    "name": "ipython",
    "version": 3
   },
   "file_extension": ".py",
   "mimetype": "text/x-python",
   "name": "python",
   "nbconvert_exporter": "python",
   "pygments_lexer": "ipython3",
   "version": "3.10.12"
  }
 },
 "nbformat": 4,
 "nbformat_minor": 5
}
